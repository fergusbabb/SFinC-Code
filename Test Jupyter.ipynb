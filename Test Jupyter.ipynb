import numpy as np
from scipy import signal
import matplotlib.pyplot as plt
from scipy.integrate import odeint
from sympy import symbols, Eq, Function, dsolve

x, y = symbols("x y", cls=Function)
lam, gam = symbols("lambda gamma")

print(x)