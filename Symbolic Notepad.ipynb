{
 "cells": [
  {
   "cell_type": "code",
   "execution_count": 21,
   "metadata": {},
   "outputs": [],
   "source": [
    "import numpy as np\n",
    "from sympy import *\n",
    "\n",
    "x, y, v, l, w = symbols('x y gamma lambda omega')\n",
    "\n",
    "f, g = symbols('f g', cls=Function)\n",
    "\n",
    "\n",
    "f = -3*x + l*y**2*sqrt(3/2) + (3/2)*x * (2*x**2 + v*(1 - x**2 - y**2))\n",
    "\n",
    "g =      - l*x*y* sqrt(3/2) + (3/2)*y * (2*x**2 + v*(1 - x**2 - y**2))\n"
   ]
  },
  {
   "cell_type": "code",
   "execution_count": 22,
   "metadata": {},
   "outputs": [],
   "source": [
    "fx = simplify(f.diff(x))\n",
    "fy = simplify(f.diff(y))\n",
    "gx = simplify(g.diff(x))\n",
    "gy = simplify(g.diff(y))\n",
    "\n"
   ]
  },
  {
   "cell_type": "code",
   "execution_count": 29,
   "metadata": {},
   "outputs": [],
   "source": [
    "b = simplify(gy + fx)\n",
    "c = simplify(fx*gy - gx*fy)"
   ]
  },
  {
   "cell_type": "code",
   "execution_count": 24,
   "metadata": {},
   "outputs": [],
   "source": [
    "#O\n",
    "#xc, yc = 0, 0\n",
    "\n",
    "#A+\n",
    "#xc, yc = 1, 0\n",
    "\n",
    "#A-\n",
    "#xc, yc = -1, 0\n",
    "\n",
    "#B\n",
    "xc, yc = l/sqrt(6), sqrt(1-l**2/6)\n",
    "\n",
    "#C\n",
    "#xc, yc = (v/l)*sqrt(3/2), sqrt(3*v*(2-v)/(2*l**2))\n",
    "\n"
   ]
  },
  {
   "cell_type": "code",
   "execution_count": 33,
   "metadata": {},
   "outputs": [
    {
     "data": {
      "text/latex": [
       "$\\displaystyle - 3.0 \\gamma \\lambda^{2} + 0.612372435695794 \\sqrt{6} \\gamma \\lambda^{2} + 9.0 \\gamma + 0.102062072615966 \\sqrt{6} \\lambda^{4} + 0.25 \\lambda^{4} - 1.83711730708738 \\sqrt{6} \\lambda^{2} + 1.5 \\lambda^{2}$"
      ],
      "text/plain": [
       "-3.0*gamma*lambda**2 + 0.612372435695794*sqrt(6)*gamma*lambda**2 + 9.0*gamma + 0.102062072615966*sqrt(6)*lambda**4 + 0.25*lambda**4 - 1.83711730708738*sqrt(6)*lambda**2 + 1.5*lambda**2"
      ]
     },
     "execution_count": 33,
     "metadata": {},
     "output_type": "execute_result"
    }
   ],
   "source": [
    "b = b.subs(x,xc).subs(y,yc)\n",
    "c = c.subs(x,xc).subs(y,yc)\n",
    "simplify(c)"
   ]
  },
  {
   "cell_type": "code",
   "execution_count": 26,
   "metadata": {},
   "outputs": [
    {
     "data": {
      "text/latex": [
       "$\\displaystyle - 1.5 \\gamma + 0.750000000000001 \\lambda^{2} + 2.12132034355964 \\sqrt{0.5 \\gamma^{2} + 1.81443684650606 \\cdot 10^{-16} \\gamma \\lambda^{4} - 0.166666666666667 \\gamma \\lambda^{2} - \\gamma + 0.0138888888888887 \\lambda^{4} + 0.166666666666667 \\lambda^{2} + 0.5} - 1.5$"
      ],
      "text/plain": [
       "-1.5*gamma + 0.750000000000001*lambda**2 + 2.12132034355964*sqrt(0.5*gamma**2 + 1.81443684650606e-16*gamma*lambda**4 - 0.166666666666667*gamma*lambda**2 - gamma + 0.0138888888888887*lambda**4 + 0.166666666666667*lambda**2 + 0.5) - 1.5"
      ]
     },
     "execution_count": 26,
     "metadata": {},
     "output_type": "execute_result"
    }
   ],
   "source": [
    "Quad = w**2 + b*w + c \n",
    "\n",
    "wm, wp = solve(Quad, w)\n",
    "\n",
    "simplify(wp)"
   ]
  }
 ],
 "metadata": {
  "kernelspec": {
   "display_name": "base",
   "language": "python",
   "name": "python3"
  },
  "language_info": {
   "codemirror_mode": {
    "name": "ipython",
    "version": 3
   },
   "file_extension": ".py",
   "mimetype": "text/x-python",
   "name": "python",
   "nbconvert_exporter": "python",
   "pygments_lexer": "ipython3",
   "version": "3.11.5"
  }
 },
 "nbformat": 4,
 "nbformat_minor": 2
}
