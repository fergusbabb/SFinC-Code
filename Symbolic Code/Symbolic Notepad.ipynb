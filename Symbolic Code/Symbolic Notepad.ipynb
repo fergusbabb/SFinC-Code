{
 "cells": [
  {
   "cell_type": "code",
   "execution_count": 1,
   "metadata": {},
   "outputs": [],
   "source": [
    "import numpy as np\n",
    "from sympy import *\n",
    "\n",
    "x, y, v, l, w = symbols('x y gamma lambda omega')\n",
    "\n",
    "f, g = symbols('f g', cls=Function)\n",
    "\n",
    "\n",
    "f = -3*x + l*y**2*sqrt(3/2) + (3/2)*x * (2*x**2 + v*(1 - x**2 - y**2))\n",
    "\n",
    "g =      - l*x*y* sqrt(3/2) + (3/2)*y * (2*x**2 + v*(1 - x**2 - y**2))"
   ]
  },
  {
   "cell_type": "code",
   "execution_count": null,
   "metadata": {},
   "outputs": [],
   "source": [
    "#O\n",
    "#xc, yc = 0, 0\n",
    "\n",
    "#A+\n",
    "#xc, yc = 1, 0\n",
    "\n",
    "#A-\n",
    "#xc, yc = -1, 0\n",
    "\n",
    "#B\n",
    "#xc, yc = l/sqrt(6), sqrt(1-l**2/6)\n",
    "\n",
    "#C\n",
    "xc, yc = (v/l)*sqrt(3/2), sqrt(3*v*(2-v)/(2*l**2))"
   ]
  },
  {
   "cell_type": "code",
   "execution_count": 3,
   "metadata": {},
   "outputs": [],
   "source": [
    "fx = simplify(f.diff(x))\n",
    "fy = simplify(f.diff(y))\n",
    "gx = simplify(g.diff(x))\n",
    "gy = simplify(g.diff(y))"
   ]
  },
  {
   "cell_type": "code",
   "execution_count": null,
   "metadata": {},
   "outputs": [],
   "source": [
    "b = simplify(gy + fx)\n",
    "c = simplify(fx*gy - gx*fy)\n",
    "\n",
    "p=gx\n",
    "simplify(p.subs(x,xc).subs(y,yc))"
   ]
  },
  {
   "cell_type": "code",
   "execution_count": null,
   "metadata": {},
   "outputs": [],
   "source": [
    "fx.subs(x,xc).subs(y,yc)\n",
    "fy.subs(x,xc).subs(y,yc)\n",
    "gx.subs(x,xc).subs(y,yc)\n",
    "gy.subs(x,xc).subs(y,yc)"
   ]
  },
  {
   "cell_type": "code",
   "execution_count": null,
   "metadata": {},
   "outputs": [],
   "source": [
    "A = (gy - fx)**2\n",
    "B = 4*gx*fy\n",
    "\n",
    "A2 = A.subs(x,xc).subs(y,yc)\n",
    "B2 = B.subs(x,xc).subs(y,yc)\n",
    "\n",
    "simplify((A2+B2)*(4/(9*(2-v))))"
   ]
  },
  {
   "cell_type": "code",
   "execution_count": null,
   "metadata": {},
   "outputs": [],
   "source": [
    "Quad = w**2 + b*w + c \n",
    "\n",
    "wm, wp = solve(Quad, w)\n",
    "\n",
    "simplify(wp)"
   ]
  }
 ],
 "metadata": {
  "kernelspec": {
   "display_name": "base",
   "language": "python",
   "name": "python3"
  },
  "language_info": {
   "codemirror_mode": {
    "name": "ipython",
    "version": 3
   },
   "file_extension": ".py",
   "mimetype": "text/x-python",
   "name": "python",
   "nbconvert_exporter": "python",
   "pygments_lexer": "ipython3",
   "version": "3.11.5"
  }
 },
 "nbformat": 4,
 "nbformat_minor": 2
}
