{
 "cells": [
  {
   "cell_type": "code",
   "execution_count": 2,
   "metadata": {},
   "outputs": [
    {
     "data": {
      "text/latex": [
       "$\\displaystyle z \\left(1.5 x^{2} - 1.5 y^{2} + 0.5 z^{2} + 1.5\\right) - 2 z$"
      ],
      "text/plain": [
       "z*(1.5*x**2 - 1.5*y**2 + 0.5*z**2 + 1.5) - 2*z"
      ]
     },
     "execution_count": 2,
     "metadata": {},
     "output_type": "execute_result"
    }
   ],
   "source": [
    "import numpy as np\n",
    "from sympy import *\n",
    "\n",
    "x, y, z, l, w = symbols('x y z lambda omega')\n",
    "\n",
    "f, g, h, A = symbols('f g h A', cls=Function)\n",
    "\n",
    "A = (3/2)*(1 + x**2 - y**2 + z**2/3)\n",
    "\n",
    "f = -3*x + l*y**2*sqrt(3/2) + x * A\n",
    "\n",
    "g =      - l*x*y* sqrt(3/2) + y * A\n",
    "\n",
    "h = -2*z                    + z * A"
   ]
  },
  {
   "cell_type": "code",
   "execution_count": 29,
   "metadata": {},
   "outputs": [],
   "source": [
    "#O\n",
    "#xc, yc, zc = 0, 0, 0 \n",
    "\n",
    "#A+\n",
    "#xc, yc, zc = 1, 0, 0 \n",
    "\n",
    "#A-\n",
    "#xc, yc, zc = -1, 0, 0 \n",
    "\n",
    "#B\n",
    "#xc, yc, zc = l/sqrt(6), sqrt(1-l**2/6), 0 \n",
    "\n",
    "#C\n",
    "#xc, yc, zc = (1/l)*sqrt(3/2), sqrt(3/(2*l**2)), 0 \n",
    "\n",
    "#D\n",
    "#xc, yc, zc = 0, 0, 1\n",
    "\n",
    "#E\n",
    "xc, yc, zc = (2/l)*sqrt(2/3), 2/(l*sqrt(3)), sqrt(1-4/l**2)\n"
   ]
  },
  {
   "cell_type": "code",
   "execution_count": 30,
   "metadata": {},
   "outputs": [],
   "source": [
    "fx = simplify(f.diff(x))\n",
    "fy = simplify(f.diff(y))\n",
    "fz = simplify(f.diff(z))\n",
    "gx = simplify(g.diff(x))\n",
    "gy = simplify(g.diff(y))\n",
    "gz = simplify(g.diff(z))\n",
    "hx = simplify(h.diff(x))\n",
    "hy = simplify(h.diff(y))\n",
    "hz = simplify(h.diff(z))"
   ]
  },
  {
   "cell_type": "code",
   "execution_count": 31,
   "metadata": {},
   "outputs": [],
   "source": [
    "b = fx + gy + hz\n",
    "\n",
    "c = -(gy*hz - gz*hy\n",
    "    + fx*gy - fy*gx\n",
    "    + fx*hz - fz*hx)\n",
    "\n",
    "d = ( fx*(gy*hz - gz*hy)\n",
    "    + fx*(gz*hx - gx*hz)\n",
    "    + fx*(gx*hy - gy*hx))"
   ]
  },
  {
   "cell_type": "code",
   "execution_count": 35,
   "metadata": {},
   "outputs": [
    {
     "data": {
      "text/latex": [
       "$\\displaystyle \\left(-1.0 + \\frac{8.0}{\\lambda^{2}}\\right) \\left(\\left(2.22044604925031 \\cdot 10^{-16} - \\frac{4.0}{\\lambda^{2}}\\right) \\left(1.0 - \\frac{4.0}{\\lambda^{2}}\\right) + \\frac{4.0 \\cdot \\left(1 - \\frac{4}{\\lambda^{2}}\\right)}{\\lambda^{2}}\\right) + \\left(-1.0 + \\frac{8.0}{\\lambda^{2}}\\right) \\left(- \\frac{4.89897948556636 \\cdot \\left(2.22044604925031 \\cdot 10^{-16} - \\frac{4.0}{\\lambda^{2}}\\right) \\sqrt{1 - \\frac{4}{\\lambda^{2}}}}{\\lambda} - \\frac{4.0 \\sqrt{1 - \\frac{4}{\\lambda^{2}}} \\left(- 1.22474487139159 \\lambda + \\frac{4.89897948556636}{\\lambda}\\right)}{\\lambda^{2}}\\right) + \\left(-1.0 + \\frac{8.0}{\\lambda^{2}}\\right) \\left(- \\frac{2 \\sqrt{3} \\cdot \\left(1.0 - \\frac{4.0}{\\lambda^{2}}\\right) \\left(- 1.22474487139159 \\lambda + \\frac{4.89897948556636}{\\lambda}\\right)}{3 \\lambda} + \\frac{3.2659863237109 \\sqrt{3} \\cdot \\left(1 - \\frac{4}{\\lambda^{2}}\\right)}{\\lambda^{2}}\\right)$"
      ],
      "text/plain": [
       "(-1.0 + 8.0/lambda**2)*((2.22044604925031e-16 - 4.0/lambda**2)*(1.0 - 4.0/lambda**2) + 4.0*(1 - 4/lambda**2)/lambda**2) + (-1.0 + 8.0/lambda**2)*(-4.89897948556636*(2.22044604925031e-16 - 4.0/lambda**2)*sqrt(1 - 4/lambda**2)/lambda - 4.0*sqrt(1 - 4/lambda**2)*(-1.22474487139159*lambda + 4.89897948556636/lambda)/lambda**2) + (-1.0 + 8.0/lambda**2)*(-2*sqrt(3)*(1.0 - 4.0/lambda**2)*(-1.22474487139159*lambda + 4.89897948556636/lambda)/(3*lambda) + 3.2659863237109*sqrt(3)*(1 - 4/lambda**2)/lambda**2)"
      ]
     },
     "execution_count": 35,
     "metadata": {},
     "output_type": "execute_result"
    }
   ],
   "source": [
    "b.subs(x,xc).subs(y,yc).subs(z,zc)\n",
    "simplify(c.subs(x,xc).subs(y,yc).subs(z,zc))\n",
    "d.subs(x,xc).subs(y,yc).subs(z,zc)"
   ]
  },
  {
   "cell_type": "code",
   "execution_count": null,
   "metadata": {},
   "outputs": [],
   "source": []
  }
 ],
 "metadata": {
  "kernelspec": {
   "display_name": "base",
   "language": "python",
   "name": "python3"
  },
  "language_info": {
   "codemirror_mode": {
    "name": "ipython",
    "version": 3
   },
   "file_extension": ".py",
   "mimetype": "text/x-python",
   "name": "python",
   "nbconvert_exporter": "python",
   "pygments_lexer": "ipython3",
   "version": "3.12.1"
  }
 },
 "nbformat": 4,
 "nbformat_minor": 2
}
